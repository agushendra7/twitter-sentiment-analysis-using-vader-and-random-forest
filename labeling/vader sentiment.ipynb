{
 "cells": [
  {
   "cell_type": "markdown",
   "id": "ef6737f4",
   "metadata": {},
   "source": [
    "# Preparing Data"
   ]
  },
  {
   "cell_type": "code",
   "execution_count": null,
   "id": "7cf9e52b",
   "metadata": {},
   "outputs": [],
   "source": [
    "import pandas as pd\n",
    "import numpy as np\n",
    "\n",
    "df = pd.read_csv(\"preprocessing results\")\n",
    "\n",
    "df"
   ]
  },
  {
   "cell_type": "markdown",
   "id": "163db501",
   "metadata": {},
   "source": [
    "# Select Columns Called"
   ]
  },
  {
   "cell_type": "code",
   "execution_count": null,
   "id": "ae8faa89",
   "metadata": {},
   "outputs": [],
   "source": [
    "#select columns called 'Text Filtering'\n",
    "df_new = df[['Text Filtering']]\n",
    "\n",
    "#view new DataFrame\n",
    "df_new"
   ]
  },
  {
   "cell_type": "markdown",
   "id": "f90e0cac",
   "metadata": {},
   "source": [
    "# Determination of Compound Score"
   ]
  },
  {
   "cell_type": "code",
   "execution_count": null,
   "id": "2fb4155c",
   "metadata": {},
   "outputs": [],
   "source": [
    "from vaderSentiment.vaderSentiment import SentimentIntensityAnalyzer\n",
    "vs = SentimentIntensityAnalyzer()\n",
    "\n",
    "df_new['Score'] = df_new['Text Filtering'].apply(lambda x: vs.polarity_scores(x))\n",
    "df_new['Compound Score'] = df_new['Text Filtering'].apply(lambda x: vs.polarity_scores(x)['compound'])\n",
    "\n",
    "df_new.head()"
   ]
  },
  {
   "cell_type": "markdown",
   "id": "0c0b0826",
   "metadata": {},
   "source": [
    "# Determination of Sentiment"
   ]
  },
  {
   "cell_type": "code",
   "execution_count": null,
   "id": "0e89c489",
   "metadata": {},
   "outputs": [],
   "source": [
    "def vader_analysis(compound):\n",
    "    if compound >= 0.05:\n",
    "        return 'Positive'\n",
    "    elif compound <=  -0.05:\n",
    "        return 'Negative'\n",
    "    else:\n",
    "        return 'Neutral'\n",
    "\n",
    "df_new['Vader Sentiment'] = df_new['Compound Score'].apply(vader_analysis)\n",
    "df_new.head(10)"
   ]
  },
  {
   "cell_type": "markdown",
   "id": "a23536fe",
   "metadata": {},
   "source": [
    "# Sentiment Cumulative Results"
   ]
  },
  {
   "cell_type": "code",
   "execution_count": null,
   "id": "66baa04c",
   "metadata": {},
   "outputs": [],
   "source": [
    "vader_counts = df_new['Vader Sentiment'].value_counts()\n",
    "vader_counts"
   ]
  },
  {
   "cell_type": "markdown",
   "id": "0943f9ab",
   "metadata": {},
   "source": [
    "# Visualization"
   ]
  },
  {
   "cell_type": "code",
   "execution_count": null,
   "id": "f8f0823b",
   "metadata": {},
   "outputs": [],
   "source": [
    "import matplotlib.pyplot as plt\n",
    "import seaborn as sns\n",
    "plt.figure(figsize=(7, 5));\n",
    "g = sns.countplot(x='Vader Sentiment', data=df_new)\n",
    "\n",
    "ax=g.axes\n",
    "for p in ax.patches:\n",
    "     ax.annotate(f\"{p.get_height() * 100 / df_new.shape[0]:.1f}%\", (p.get_x() + p.get_width() / 2., p.get_height()),\n",
    "         ha='center', va='center', fontsize=10, color='black', rotation=0, xytext=(0, 5),\n",
    "         textcoords='offset points')  "
   ]
  },
  {
   "cell_type": "code",
   "execution_count": null,
   "id": "f4e1a93a",
   "metadata": {},
   "outputs": [],
   "source": [
    "from wordcloud import WordCloud,STOPWORDS\n",
    "import matplotlib.pyplot as plt\n",
    "import seaborn as sns\n",
    "\n",
    "new_df=df[df_new['Vader Sentiment']=='Positive']\n",
    "words = ' '.join(new_df['Text Filtering'])\n",
    "wordcloud = WordCloud(stopwords=STOPWORDS,\n",
    "                      background_color='white',\n",
    "                      width=700, height=400, max_words = 100, collocations=False\n",
    "                     ).generate(words)\n",
    "plt.figure(figsize=(6, 6))\n",
    "plt.imshow(wordcloud, interpolation=\"bilinear\")\n",
    "plt.axis('off')\n",
    "plt.show()"
   ]
  },
  {
   "cell_type": "code",
   "execution_count": null,
   "id": "9b488b42",
   "metadata": {},
   "outputs": [],
   "source": [
    "from wordcloud import WordCloud,STOPWORDS\n",
    "import matplotlib.pyplot as plt\n",
    "import seaborn as sns\n",
    "\n",
    "new_df=df[df_new['Vader Sentiment']=='Negative']\n",
    "words = ' '.join(new_df['Text Filtering'])\n",
    "wordcloud = WordCloud(stopwords=STOPWORDS,\n",
    "                      background_color='white',\n",
    "                      width=700, height=400, max_words = 100, collocations=False\n",
    "                     ).generate(words)\n",
    "plt.figure(figsize=(6, 6))\n",
    "plt.imshow(wordcloud, interpolation=\"bilinear\")\n",
    "plt.axis('off')\n",
    "plt.show()"
   ]
  },
  {
   "cell_type": "code",
   "execution_count": null,
   "id": "287bdd13",
   "metadata": {},
   "outputs": [],
   "source": [
    "from wordcloud import WordCloud,STOPWORDS\n",
    "import matplotlib.pyplot as plt\n",
    "import seaborn as sns\n",
    "\n",
    "new_df=df[df_new['Vader Sentiment']=='Neutral']\n",
    "words = ' '.join(new_df['Text Filtering'])\n",
    "wordcloud = WordCloud(stopwords=STOPWORDS,\n",
    "                      background_color='white',\n",
    "                      width=700, height=400, max_words = 100, collocations=False\n",
    "                     ).generate(words)\n",
    "plt.figure(figsize=(6, 6))\n",
    "plt.imshow(wordcloud, interpolation=\"bilinear\")\n",
    "plt.axis('off')\n",
    "plt.show()"
   ]
  },
  {
   "cell_type": "markdown",
   "id": "7701fb77",
   "metadata": {},
   "source": [
    "# Save Result"
   ]
  },
  {
   "cell_type": "code",
   "execution_count": null,
   "id": "cfdf0d26",
   "metadata": {},
   "outputs": [],
   "source": [
    "df_new.to_csv(\"sentiment results\", index=False)"
   ]
  }
 ],
 "metadata": {
  "kernelspec": {
   "display_name": "Python 3 (ipykernel)",
   "language": "python",
   "name": "python3"
  },
  "language_info": {
   "codemirror_mode": {
    "name": "ipython",
    "version": 3
   },
   "file_extension": ".py",
   "mimetype": "text/x-python",
   "name": "python",
   "nbconvert_exporter": "python",
   "pygments_lexer": "ipython3",
   "version": "3.10.7"
  }
 },
 "nbformat": 4,
 "nbformat_minor": 5
}
