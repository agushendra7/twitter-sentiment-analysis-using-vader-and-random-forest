{
 "cells": [
  {
   "cell_type": "markdown",
   "id": "2b979a40",
   "metadata": {},
   "source": [
    "# Preparing Data"
   ]
  },
  {
   "cell_type": "code",
   "execution_count": null,
   "id": "2ae49c56",
   "metadata": {},
   "outputs": [],
   "source": [
    "import pandas as pd \n",
    "import numpy as np\n",
    "tweet = pd.read_excel(\"tweet translate.xlsx\")\n",
    "\n",
    "tweet.head()"
   ]
  },
  {
   "cell_type": "markdown",
   "id": "27e07b7a",
   "metadata": {},
   "source": [
    "# Case Folding"
   ]
  },
  {
   "cell_type": "code",
   "execution_count": null,
   "id": "78b21eab",
   "metadata": {},
   "outputs": [],
   "source": [
    "# ------ Case Folding --------\n",
    "# Using Series.str.lower() function on Pandas\n",
    "tweet['Text Case Folding'] = tweet['Text'].str.lower()\n",
    "\n",
    "\n",
    "print('Case Folding Result : \\n')\n",
    "print(tweet['Text Case Folding'].head(5))\n",
    "print('\\n\\n\\n')"
   ]
  },
  {
   "cell_type": "markdown",
   "id": "a1a0f505",
   "metadata": {},
   "source": [
    "# Tokenizing"
   ]
  },
  {
   "cell_type": "code",
   "execution_count": null,
   "id": "9a98b6c7",
   "metadata": {},
   "outputs": [],
   "source": [
    "# ------ Tokenizing ---------\n",
    "\n",
    "import string \n",
    "import re #regex library\n",
    "\n",
    "# import word_tokenize\n",
    "from nltk.tokenize import word_tokenize \n",
    "\n",
    "def remove_tweet_special(text):\n",
    "    # remove tab, new line, ans back slice\n",
    "    text = text.replace('\\\\t',\" \").replace('\\\\n',\" \").replace('\\\\u',\" \").replace('\\\\',\"\")\n",
    "    # remove non ASCII (emoticon, chinese word, .etc)\n",
    "    text = text.encode('ascii', 'replace').decode('ascii')\n",
    "    # remove mention, link, hashtag\n",
    "    text = ' '.join(re.sub(\"([@#][A-Za-z0-9]+)|(\\w+:\\/\\/\\S+)\",\" \", text).split())\n",
    "    # remove incomplete URL\n",
    "    return text.replace(\"http://\", \" \").replace(\"https://\", \" \")\n",
    "                \n",
    "tweet['Text Case Folding'] = tweet['Text Case Folding'].apply(remove_tweet_special)\n",
    "\n",
    "#remove number\n",
    "def remove_number(text):\n",
    "    return  re.sub(r\"\\d+\", \"\", text)\n",
    "\n",
    "tweet['Text Case Folding'] = tweet['Text Case Folding'].apply(remove_number)\n",
    "\n",
    "#remove punctuation\n",
    "def remove_punctuation(text):\n",
    "    return text.translate(str.maketrans(\"\",\"\",string.punctuation))\n",
    "\n",
    "tweet['Text Case Folding'] = tweet['Text Case Folding'].apply(remove_punctuation)\n",
    "\n",
    "#remove whitespace leading & trailing\n",
    "def remove_whitespace_LT(text):\n",
    "    return text.strip()\n",
    "\n",
    "tweet['Text Case Folding'] = tweet['Text Case Folding'].apply(remove_whitespace_LT)\n",
    "\n",
    "#remove multiple whitespace into single whitespace\n",
    "def remove_whitespace_multiple(text):\n",
    "    return re.sub('\\s+',' ',text)\n",
    "\n",
    "tweet['Text Case Folding'] = tweet['Text Case Folding'].apply(remove_whitespace_multiple)\n",
    "\n",
    "# remove single char\n",
    "def remove_singl_char(text):\n",
    "    return re.sub(r\"\\b[a-zA-Z]\\b\", \"\", text)\n",
    "\n",
    "tweet['Text Case Folding'] = tweet['Text Case Folding'].apply(remove_singl_char)\n",
    "\n",
    "# NLTK word rokenize \n",
    "def word_tokenize_wrapper(text):\n",
    "    return word_tokenize(text)\n",
    "\n",
    "tweet['Text Tokenizing'] = tweet['Text Case Folding'].apply(word_tokenize_wrapper)\n",
    "\n",
    "print('Tokenizing Result : \\n') \n",
    "print(tweet['Text Tokenizing'].head())\n",
    "print('\\n\\n\\n')"
   ]
  },
  {
   "cell_type": "markdown",
   "id": "d72cf5ea",
   "metadata": {},
   "source": [
    "# Normalization"
   ]
  },
  {
   "cell_type": "code",
   "execution_count": null,
   "id": "23cef549",
   "metadata": {},
   "outputs": [],
   "source": [
    "# ------ Normalization ---------\n",
    "normalizad_word = pd.read_excel(\"kata_baku.xlsx\")\n",
    "\n",
    "normalizad_word_dict = {}\n",
    "\n",
    "for index, row in normalizad_word.iterrows():\n",
    "    if row[0] not in normalizad_word_dict:\n",
    "        normalizad_word_dict[row[0]] = row[1] \n",
    "\n",
    "def normalized_term(document):\n",
    "    return [normalizad_word_dict[term] if term in normalizad_word_dict else term for term in document]\n",
    "\n",
    "tweet['Text Normalization'] = tweet['Text Tokenizing'].apply(normalized_term)\n",
    "\n",
    "tweet['Text Normalization'].head(10)"
   ]
  },
  {
   "cell_type": "markdown",
   "id": "df0d5f7b",
   "metadata": {},
   "source": [
    "# Stemming"
   ]
  },
  {
   "cell_type": "code",
   "execution_count": null,
   "id": "5e9b969b",
   "metadata": {},
   "outputs": [],
   "source": [
    "# ------ Stemming ---------\n",
    "import nltk\n",
    "from nltk.stem.porter import PorterStemmer\n",
    "ps = PorterStemmer()\n",
    "import swifter\n",
    "\n",
    "\n",
    "# stemmed\n",
    "def stemmed_wrapper(term):\n",
    "    return ps.stem(term)\n",
    "\n",
    "term_dict = {}\n",
    "\n",
    "for document in tweet['Text Normalization']:\n",
    "    for term in document:\n",
    "        if term not in term_dict:\n",
    "            term_dict[term] = ' '\n",
    "            \n",
    "print(len(term_dict))\n",
    "print(\"------------------------\")\n",
    "\n",
    "for term in term_dict:\n",
    "    term_dict[term] = stemmed_wrapper(term)\n",
    "    print(term,\":\" ,term_dict[term])\n",
    "    \n",
    "print(term_dict)\n",
    "print(\"------------------------\")\n",
    "\n",
    "\n",
    "# apply stemmed term to dataframe\n",
    "def get_stemmed_term(document):\n",
    "    return [term_dict[term] for term in document]\n",
    "\n",
    "tweet['Text Stemming'] = tweet['Text Normalization'].swifter.apply(get_stemmed_term)\n",
    "print(tweet['Text Stemming'])"
   ]
  },
  {
   "cell_type": "markdown",
   "id": "a1b64787",
   "metadata": {},
   "source": [
    "# Filtering"
   ]
  },
  {
   "cell_type": "code",
   "execution_count": null,
   "id": "b246ca8b",
   "metadata": {},
   "outputs": [],
   "source": [
    "# ------ Filtering ---------\n",
    "from nltk.corpus import stopwords\n",
    "\n",
    "# ----------------------- get stopword from NLTK stopword -------------------------------\n",
    "# get stopword indonesia\n",
    "list_stopwords = stopwords.words('english')\n",
    "\n",
    "\n",
    "# ---------------------------- manualy add stopword  ------------------------------------\n",
    "# append additional stopword\n",
    "list_stopwords.extend(['the', 'Aspiyuaja', 'ewopang', 'ombabikinoten',  'wkwkwk', 'jgdqcxnjo', 'rtqwsxznu', \n",
    "                       'pembslap','mnjdi','rt','&amp',\n",
    "                       'allah', 'brb', 'btw', 'cod', 'cmiiw', 'fyi',\n",
    "                       'gg', 'ggwp', 'idk', 'ikr', 'lol', 'ootd', 'lmao', 'oot',\n",
    "                       'pap', 'otw', 'tfl', 'vc', 'ygy'])\n",
    "\n",
    "# ----------------------- add stopword from txt file ------------------------------------\n",
    "# read txt stopword using pandas\n",
    "txt_stopword = pd.read_csv(\"stopword inggris.txt\", names= [\"stopwords\"], header = None)\n",
    "\n",
    "# convert stopword string to list & append additional stopword\n",
    "list_stopwords.extend(txt_stopword[\"stopwords\"][0].split(' '))\n",
    "\n",
    "# ---------------------------------------------------------------------------------------\n",
    "\n",
    "# convert list to dictionary\n",
    "list_stopwords = set(list_stopwords)\n",
    "\n",
    "\n",
    "#remove stopword pada list token\n",
    "def stopwords_removal(words):\n",
    "    return [word for word in words if word not in list_stopwords]\n",
    "\n",
    "tweet['Text Filtering'] = tweet['Text Stemming'].apply(stopwords_removal) \n",
    "\n",
    "\n",
    "print(tweet['Text Filtering'].head())"
   ]
  },
  {
   "cell_type": "markdown",
   "id": "ae5180db",
   "metadata": {},
   "source": [
    "# View & Save Results"
   ]
  },
  {
   "cell_type": "code",
   "execution_count": null,
   "id": "2d5a0987",
   "metadata": {},
   "outputs": [],
   "source": [
    "tweet.head()\n",
    "\n",
    "tweet.to_csv(\"preprocessing results\", index=False)"
   ]
  }
 ],
 "metadata": {
  "kernelspec": {
   "display_name": "Python 3 (ipykernel)",
   "language": "python",
   "name": "python3"
  },
  "language_info": {
   "codemirror_mode": {
    "name": "ipython",
    "version": 3
   },
   "file_extension": ".py",
   "mimetype": "text/x-python",
   "name": "python",
   "nbconvert_exporter": "python",
   "pygments_lexer": "ipython3",
   "version": "3.10.7"
  }
 },
 "nbformat": 4,
 "nbformat_minor": 5
}
