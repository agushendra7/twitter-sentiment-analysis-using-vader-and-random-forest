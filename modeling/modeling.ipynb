{
 "cells": [
  {
   "cell_type": "markdown",
   "id": "ec7eb9c2",
   "metadata": {},
   "source": [
    "# Vader Count Vectorizer"
   ]
  },
  {
   "cell_type": "code",
   "execution_count": null,
   "id": "83e89f4b",
   "metadata": {},
   "outputs": [],
   "source": [
    "import pandas as pd\n",
    "import numpy as np\n",
    "\n",
    "df1 = pd.read_csv(\"sentiment results\")\n",
    "\n",
    "df1"
   ]
  },
  {
   "cell_type": "markdown",
   "id": "58cf5416",
   "metadata": {},
   "source": [
    "## Splitting the Data"
   ]
  },
  {
   "cell_type": "code",
   "execution_count": null,
   "id": "c52c6fcd",
   "metadata": {},
   "outputs": [],
   "source": [
    "# Define Y (This is the value we will predict)\n",
    "X = df1[\"Text Filtering\"]\n",
    "y = df1[\"Vader Sentiment\"]"
   ]
  },
  {
   "cell_type": "code",
   "execution_count": null,
   "id": "0398192b",
   "metadata": {},
   "outputs": [],
   "source": [
    "from sklearn.model_selection import train_test_split\n",
    "X_train, X_test, y_train, y_test = train_test_split(X, y, test_size=0.2, random_state=0)\n",
    "print(\"Train Data:\", len(X_train))\n",
    "print(\"Test Data:\", len(X_test))"
   ]
  },
  {
   "cell_type": "markdown",
   "id": "24533b3f",
   "metadata": {},
   "source": [
    "## Implementation Count Vectorizer"
   ]
  },
  {
   "cell_type": "code",
   "execution_count": null,
   "id": "22a50494",
   "metadata": {},
   "outputs": [],
   "source": [
    "from nltk.corpus import stopwords\n",
    "from sklearn.feature_extraction.text import CountVectorizer\n",
    "\n",
    "count_vectorizer1 = CountVectorizer (max_features=2500, min_df=7, max_df=0.8, stop_words=stopwords.words('english'))\n",
    "response1 = count_vectorizer1.fit_transform(X_train)"
   ]
  },
  {
   "cell_type": "code",
   "execution_count": null,
   "id": "fc2e8f85",
   "metadata": {},
   "outputs": [],
   "source": [
    "df_countvectorizer1 = pd.DataFrame(response1.toarray(), columns=count_vectorizer1.get_feature_names())\n",
    "df_countvectorizer1.head()"
   ]
  },
  {
   "cell_type": "markdown",
   "id": "7b268eee",
   "metadata": {},
   "source": [
    "## Tranforming the Dataset"
   ]
  },
  {
   "cell_type": "code",
   "execution_count": null,
   "id": "eeaa4cff",
   "metadata": {},
   "outputs": [],
   "source": [
    "X_train = count_vectorizer1.transform(X_train)\n",
    "X_test  = count_vectorizer1.transform(X_test)\n",
    "print(f'Vader Count Data Transformed.')"
   ]
  },
  {
   "cell_type": "markdown",
   "id": "aaa3b086",
   "metadata": {},
   "source": [
    "## Evaluate Model Function"
   ]
  },
  {
   "cell_type": "code",
   "execution_count": null,
   "id": "19eb0fa5",
   "metadata": {},
   "outputs": [],
   "source": [
    "from sklearn.ensemble import RandomForestClassifier\n",
    "\n",
    "text_classifier1 = RandomForestClassifier(n_estimators=200, criterion='entropy', random_state=0)\n",
    "text_classifier1.fit(X_train, y_train)"
   ]
  },
  {
   "cell_type": "code",
   "execution_count": null,
   "id": "82faeb0f",
   "metadata": {},
   "outputs": [],
   "source": [
    "count_predictions1 = text_classifier1.predict(X_test)"
   ]
  },
  {
   "cell_type": "markdown",
   "id": "5edf8e4b",
   "metadata": {},
   "source": [
    "## Random Forest Model  "
   ]
  },
  {
   "cell_type": "code",
   "execution_count": null,
   "id": "96396107",
   "metadata": {},
   "outputs": [],
   "source": [
    "from sklearn.metrics import classification_report, confusion_matrix, accuracy_score\n",
    "import matplotlib.pyplot as plt\n",
    "import seaborn as sns\n",
    "\n",
    "cm1 = confusion_matrix(y_test,count_predictions1)\n",
    "cr1 = classification_report(y_test,count_predictions1)\n",
    "rf_cv1 = accuracy_score(y_test,count_predictions1)\n",
    "print('Confusion Matrix Vader: \\n',cm1)\n",
    "print('Classification report: \\n',cr1)\n",
    "print(f'Vader Sentimen Random Forest Classifier on Count Vectors: {rf_cv1}')\n",
    "\n",
    "# plot confusion matrix \n",
    "plt.figure(figsize=(6,4))\n",
    "sentiment_classes = ['Negative', 'Neutral', 'Positive']\n",
    "sns.heatmap(cm1, cmap=plt.cm.Reds, annot=True, fmt='d', \n",
    "            xticklabels=sentiment_classes,\n",
    "            yticklabels=sentiment_classes)\n",
    "plt.title('Confusion Matrix', fontsize=16)\n",
    "plt.ylabel('Aktual Label', fontsize=12)\n",
    "plt.xlabel('Predicted Label', fontsize=12)\n",
    "plt.show()"
   ]
  },
  {
   "cell_type": "markdown",
   "id": "e4885802",
   "metadata": {},
   "source": [
    "# Vader TF-IDF"
   ]
  },
  {
   "cell_type": "code",
   "execution_count": null,
   "id": "b5fe45f7",
   "metadata": {},
   "outputs": [],
   "source": [
    "import pandas as pd\n",
    "import numpy as np\n",
    "\n",
    "df2 = pd.read_csv(\"sentiment results\")\n",
    "\n",
    "df2"
   ]
  },
  {
   "cell_type": "markdown",
   "id": "4efd175f",
   "metadata": {},
   "source": [
    "## Splitting the Data"
   ]
  },
  {
   "cell_type": "code",
   "execution_count": null,
   "id": "0d5fa80e",
   "metadata": {},
   "outputs": [],
   "source": [
    "# Define Y (This is the value we will predict)\n",
    "X = df2[\"Text Filtering\"]\n",
    "y = df2[\"Vader Sentiment\"]"
   ]
  },
  {
   "cell_type": "code",
   "execution_count": null,
   "id": "f30d3a89",
   "metadata": {},
   "outputs": [],
   "source": [
    "from sklearn.model_selection import train_test_split\n",
    "X_train, X_test, y_train, y_test = train_test_split(X, y, test_size=0.2, random_state=0)\n",
    "print(\"Train Data:\", len(X_train))\n",
    "print(\"Test Data:\", len(X_test))"
   ]
  },
  {
   "cell_type": "markdown",
   "id": "863aa0b6",
   "metadata": {},
   "source": [
    "## Implementation TF-IDF"
   ]
  },
  {
   "cell_type": "code",
   "execution_count": null,
   "id": "00a829ea",
   "metadata": {},
   "outputs": [],
   "source": [
    "from nltk.corpus import stopwords\n",
    "from sklearn.feature_extraction.text import TfidfVectorizer\n",
    "\n",
    "tfidf_vectorizer2 = TfidfVectorizer (max_features=2500, min_df=7, max_df=0.8, stop_words=stopwords.words('english'))\n",
    "response2 = tfidf_vectorizer2.fit_transform(X_train)"
   ]
  },
  {
   "cell_type": "code",
   "execution_count": null,
   "id": "55914058",
   "metadata": {},
   "outputs": [],
   "source": [
    "df_tfidf_vectorizer2= pd.DataFrame(response2.toarray(), columns=tfidf_vectorizer2.get_feature_names())\n",
    "df_tfidf_vectorizer2.head()"
   ]
  },
  {
   "cell_type": "markdown",
   "id": "b4ba52eb",
   "metadata": {},
   "source": [
    "## Tranforming the Dataset"
   ]
  },
  {
   "cell_type": "code",
   "execution_count": null,
   "id": "37c0cf93",
   "metadata": {},
   "outputs": [],
   "source": [
    "X_train = tfidf_vectorizer2.transform(X_train)\n",
    "X_test  = tfidf_vectorizer2.transform(X_test)\n",
    "print(f'Vader TF IDF Data Transformed.')"
   ]
  },
  {
   "cell_type": "markdown",
   "id": "ab69336e",
   "metadata": {},
   "source": [
    "## Evaluate Model Function "
   ]
  },
  {
   "cell_type": "code",
   "execution_count": null,
   "id": "4ce61251",
   "metadata": {},
   "outputs": [],
   "source": [
    "from sklearn.ensemble import RandomForestClassifier\n",
    "\n",
    "text_classifier2 = RandomForestClassifier(n_estimators=200, criterion='entropy', random_state=0)\n",
    "text_classifier2.fit(X_train, y_train)"
   ]
  },
  {
   "cell_type": "code",
   "execution_count": null,
   "id": "e5978748",
   "metadata": {},
   "outputs": [],
   "source": [
    "tfidf_predictions2 = text_classifier2.predict(X_test)"
   ]
  },
  {
   "cell_type": "markdown",
   "id": "767da12c",
   "metadata": {},
   "source": [
    "## Random Forest Model "
   ]
  },
  {
   "cell_type": "code",
   "execution_count": null,
   "id": "75d39697",
   "metadata": {},
   "outputs": [],
   "source": [
    "from sklearn.metrics import classification_report, confusion_matrix, accuracy_score\n",
    "import matplotlib.pyplot as plt\n",
    "import seaborn as sns\n",
    "\n",
    "cm2 = confusion_matrix(y_test,tfidf_predictions2)\n",
    "cr2 = classification_report(y_test,tfidf_predictions2)\n",
    "rf_tfidf2 = accuracy_score(y_test,tfidf_predictions2)\n",
    "print('Confusion matrix: \\n',cm2)\n",
    "print('Classification report: \\n',cr2)\n",
    "print(f'Vader Sentimen Random Forest Classifier on TF-IDF Vectors: {rf_tfidf2}')\n",
    "\n",
    "# plot confusion matrix \n",
    "plt.figure(figsize=(6,4))\n",
    "sentiment_classes = ['Negative', 'Neutral', 'Positive']\n",
    "sns.heatmap(cm2, cmap=plt.cm.Reds, annot=True, fmt='d', \n",
    "            xticklabels=sentiment_classes,\n",
    "            yticklabels=sentiment_classes)\n",
    "plt.title('Confusion Matrix', fontsize=16)\n",
    "plt.ylabel('Aktual Label', fontsize=12)\n",
    "plt.xlabel('Predicted Label', fontsize=12)\n",
    "plt.show()"
   ]
  },
  {
   "cell_type": "markdown",
   "id": "88c1e473",
   "metadata": {},
   "source": [
    "## Comparison of CV and TF-IDF Results "
   ]
  },
  {
   "cell_type": "code",
   "execution_count": null,
   "id": "cfc66546",
   "metadata": {},
   "outputs": [],
   "source": [
    "import pandas as pd\n",
    "model = {'Model':['Vader Random Forest Classifier - Count Vectors', \n",
    "                  'Vader Random Forest Classifier - TFIDF Vectors',\n",
    "                 ],\n",
    "         'Accuracy Score':[rf_cv1, rf_tfidf2]\n",
    "         }\n",
    "model_df = pd.DataFrame(model)\n",
    "model_df"
   ]
  }
 ],
 "metadata": {
  "kernelspec": {
   "display_name": "Python 3 (ipykernel)",
   "language": "python",
   "name": "python3"
  },
  "language_info": {
   "codemirror_mode": {
    "name": "ipython",
    "version": 3
   },
   "file_extension": ".py",
   "mimetype": "text/x-python",
   "name": "python",
   "nbconvert_exporter": "python",
   "pygments_lexer": "ipython3",
   "version": "3.10.7"
  }
 },
 "nbformat": 4,
 "nbformat_minor": 5
}
